{
 "cells": [
  {
   "cell_type": "markdown",
   "metadata": {},
   "source": [
    "<img src=\"http://imgur.com/1ZcRyrc.png\" style=\"float: left; margin: 20px; height: 55px\">\n",
    "\n",
    "# Project 1: Python Coding Exercises\n",
    "\n",
    "_Authors: Joseph Nelson (DC) _\n",
    "\n",
    "---"
   ]
  },
  {
   "cell_type": "code",
   "execution_count": null,
   "metadata": {
    "collapsed": true
   },
   "outputs": [],
   "source": [
    "https://github.com/shorto38/unit_project1.git"
   ]
  },
  {
   "cell_type": "markdown",
   "metadata": {},
   "source": [
    "The following code challenges are drawn from common exercises used in technical interviews.\n",
    "\n",
    "Note that there may be several ways to approach each challenge!"
   ]
  },
  {
   "cell_type": "markdown",
   "metadata": {},
   "source": [
    "### Challenge 1: Largest Palindrome\n",
    "A palindromic number reads the same both ways. For example, 1234321 is a palindrome. The largest palindrome made from the product of two two-digit numbers is 9009 = 91 × 99. Find the largest palindrome made from the product of two three-digit numbers."
   ]
  },
  {
   "cell_type": "code",
   "execution_count": 1,
   "metadata": {},
   "outputs": [
    {
     "name": "stdout",
     "output_type": "stream",
     "text": [
      "906609\n"
     ]
    }
   ],
   "source": [
    "def is_palindrome(n):\n",
    "    s = str(n)\n",
    "    reverseString = \"\"\n",
    "    \n",
    "    for x in range (len(s) -1, -1, -1):\n",
    "        reverseString += s[x]\n",
    "\n",
    "    return reverseString == s\n",
    "\n",
    "def largest_palindrome():\n",
    "    palindrome = -1\n",
    "    \n",
    "    for x in range (999, 99, -1):\n",
    "        for y in range (x, 99, -1):\n",
    "            if is_palindrome(x * y) and x * y > palindrome:\n",
    "                palindrome = x * y\n",
    "    return palindrome;\n",
    "\n",
    "print (largest_palindrome())"
   ]
  },
  {
   "cell_type": "markdown",
   "metadata": {},
   "source": [
    "\n",
    "### Challenge 2: Summation of Primes\n",
    "The sum of the primes below 10 is 2 + 3 + 5 + 7 = 17. Find the sum of all the primes below 2,000."
   ]
  },
  {
   "cell_type": "code",
   "execution_count": 29,
   "metadata": {},
   "outputs": [
    {
     "name": "stdout",
     "output_type": "stream",
     "text": [
      "277049\n"
     ]
    }
   ],
   "source": [
    "#creating a list of the numbers within the range of 1 - 2000\n",
    "numbers = list(range(1, 2001))\n",
    "#designating prime in the numbers variable\n",
    "for prime in numbers:\n",
    "#grabbing the number in the range from the prime list\n",
    "    for x in numbers:\n",
    "        if x % prime == 0 and prime != x:\n",
    "            numbers.remove(x)\n",
    "#if x is not prime, remove x from the list\n",
    "print(sum(numbers))\n",
    "#print the sum of the remaining prime numbers"
   ]
  },
  {
   "cell_type": "markdown",
   "metadata": {},
   "source": [
    "## Challenge 3: Multiples of 3 and 5\n",
    "If we list all of the natural numbers below 10 that are multiples of 3 or 5, we get 3, 5, 6, and 9. The sum of these multiples is 23. Find the sum of all the multiples of 3 and 5 below 1,000."
   ]
  },
  {
   "cell_type": "code",
   "execution_count": 2,
   "metadata": {},
   "outputs": [
    {
     "name": "stdout",
     "output_type": "stream",
     "text": [
      "33165\n"
     ]
    }
   ],
   "source": [
    "#defining the function listsum as a numbered list\n",
    "def listsum(numList):\n",
    "    total = 0\n",
    "    for x in range (1, 1001):\n",
    "#for the numbers in the range 0 - 1000; if divisible by 3 and 5\n",
    "        if x%3 == 0 and x%5 ==0:\n",
    "            total = total + x\n",
    "    return total\n",
    "#printing the sum of the range of numbers 1 - 1000\n",
    "print(listsum([1, 1001]))"
   ]
  },
  {
   "cell_type": "markdown",
   "metadata": {},
   "source": [
    "### Challenge 4: String Compressor\n",
    "Implement a method to perform basic string compression using the counts of repeated characters. (This is called run-length encoding.) For example, the string \"aabcccccaaa\" would become a2b1c5a3. If the “compressed” string would not become smaller than the original string, your method should return the original string. You can assume the string has only uppercase and lowercase letters (a–z). Specify whether your solution is case sensitive or case insensitive and what you would need to change to make it the other."
   ]
  },
  {
   "cell_type": "code",
   "execution_count": 44,
   "metadata": {},
   "outputs": [
    {
     "data": {
      "text/plain": [
       "'s1h2e2r3i6'"
      ]
     },
     "execution_count": 44,
     "metadata": {},
     "output_type": "execute_result"
    }
   ],
   "source": [
    "def compress(string):\n",
    "    short = \"\"\n",
    "    count=1\n",
    "    short += string[0]\n",
    "    for x in range(len(string)-1):\n",
    "        if(string[x] == string[x+1]):\n",
    "            count += 1\n",
    "        else:\n",
    "            if (count >= 1):\n",
    "                short += str(count)\n",
    "            short += string[x+1]\n",
    "            count = 1\n",
    "    if(count >= 1):\n",
    "        short += str(count)\n",
    "    else:\n",
    "        if len(short) < len(string):\n",
    "            return string\n",
    "    return short.lower()          \n",
    "                \n",
    "compress(\"SHHEERRRIIIIII\")\n",
    "\n",
    "#my solution is case sensitive; in order to make it all uppercase\n",
    "#I would need to add .upper() to the return statement\n",
    "#to make it insensitive I would need to remove the .lower() from the return statement\n",
    "            "
   ]
  },
  {
   "cell_type": "markdown",
   "metadata": {},
   "source": [
    "# Bonus Challenge: FizzBuzz Extreme\n",
    "Find or develop three different solutions to the following problem, in Python, that are as different from one another as possible. Which one do you prefer? Why? In what ways are the alternative solutions better?\n",
    "\n",
    "Write a program that prints all of the numbers from 1 to 100. For multiples of 3, instead of the number, print \"Fizz;\" for multiples of 5, print \"Buzz.\" For numbers that are multiples of both 3 and 5, print \"FizzBuzz.\""
   ]
  },
  {
   "cell_type": "code",
   "execution_count": 3,
   "metadata": {},
   "outputs": [
    {
     "name": "stdout",
     "output_type": "stream",
     "text": [
      "1\n",
      "2\n",
      "fizz\n",
      "4\n",
      "buzz\n",
      "fizz\n",
      "7\n",
      "8\n",
      "fizz\n",
      "buzz\n",
      "11\n",
      "fizz\n",
      "13\n",
      "14\n",
      "fizzbuzz\n",
      "16\n",
      "17\n",
      "fizz\n",
      "19\n",
      "buzz\n",
      "fizz\n",
      "22\n",
      "23\n",
      "fizz\n",
      "buzz\n",
      "26\n",
      "fizz\n",
      "28\n",
      "29\n",
      "fizzbuzz\n",
      "31\n",
      "32\n",
      "fizz\n",
      "34\n",
      "buzz\n",
      "fizz\n",
      "37\n",
      "38\n",
      "fizz\n",
      "buzz\n",
      "41\n",
      "fizz\n",
      "43\n",
      "44\n",
      "fizzbuzz\n",
      "46\n",
      "47\n",
      "fizz\n",
      "49\n",
      "buzz\n",
      "fizz\n",
      "52\n",
      "53\n",
      "fizz\n",
      "buzz\n",
      "56\n",
      "fizz\n",
      "58\n",
      "59\n",
      "fizzbuzz\n",
      "61\n",
      "62\n",
      "fizz\n",
      "64\n",
      "buzz\n",
      "fizz\n",
      "67\n",
      "68\n",
      "fizz\n",
      "buzz\n",
      "71\n",
      "fizz\n",
      "73\n",
      "74\n",
      "fizzbuzz\n",
      "76\n",
      "77\n",
      "fizz\n",
      "79\n",
      "buzz\n",
      "fizz\n",
      "82\n",
      "83\n",
      "fizz\n",
      "buzz\n",
      "86\n",
      "fizz\n",
      "88\n",
      "89\n",
      "fizzbuzz\n",
      "91\n",
      "92\n",
      "fizz\n",
      "94\n",
      "buzz\n",
      "fizz\n",
      "97\n",
      "98\n",
      "fizz\n",
      "buzz\n"
     ]
    }
   ],
   "source": [
    "#solution 1: my favorite solution because it is very straight forward\n",
    "for x in range (1,101):\n",
    "    if x%3 == 0 and x%5 == 0:\n",
    "        print('fizzbuzz')\n",
    "    elif x%3 == 0:\n",
    "            print('fizz')\n",
    "    elif x%5 ==0:\n",
    "        print('buzz')\n",
    "    else:\n",
    "        print(x)"
   ]
  },
  {
   "cell_type": "code",
   "execution_count": 9,
   "metadata": {},
   "outputs": [
    {
     "name": "stdout",
     "output_type": "stream",
     "text": [
      "1 \n",
      "2 \n",
      "3 fizz\n",
      "4 \n",
      "5 buzz\n",
      "6 fizz\n",
      "7 \n",
      "8 \n",
      "9 fizz\n",
      "10 buzz\n",
      "11 \n",
      "12 fizz\n",
      "13 \n",
      "14 \n",
      "15 fizzbuzz\n",
      "16 \n",
      "17 \n",
      "18 fizz\n",
      "19 \n",
      "20 buzz\n",
      "21 fizz\n",
      "22 \n",
      "23 \n",
      "24 fizz\n",
      "25 buzz\n",
      "26 \n",
      "27 fizz\n",
      "28 \n",
      "29 \n",
      "30 fizzbuzz\n",
      "31 \n",
      "32 \n",
      "33 fizz\n",
      "34 \n",
      "35 buzz\n",
      "36 fizz\n",
      "37 \n",
      "38 \n",
      "39 fizz\n",
      "40 buzz\n",
      "41 \n",
      "42 fizz\n",
      "43 \n",
      "44 \n",
      "45 fizzbuzz\n",
      "46 \n",
      "47 \n",
      "48 fizz\n",
      "49 \n",
      "50 buzz\n",
      "51 fizz\n",
      "52 \n",
      "53 \n",
      "54 fizz\n",
      "55 buzz\n",
      "56 \n",
      "57 fizz\n",
      "58 \n",
      "59 \n",
      "60 fizzbuzz\n",
      "61 \n",
      "62 \n",
      "63 fizz\n",
      "64 \n",
      "65 buzz\n",
      "66 fizz\n",
      "67 \n",
      "68 \n",
      "69 fizz\n",
      "70 buzz\n",
      "71 \n",
      "72 fizz\n",
      "73 \n",
      "74 \n",
      "75 fizzbuzz\n",
      "76 \n",
      "77 \n",
      "78 fizz\n",
      "79 \n",
      "80 buzz\n",
      "81 fizz\n",
      "82 \n",
      "83 \n",
      "84 fizz\n",
      "85 buzz\n",
      "86 \n",
      "87 fizz\n",
      "88 \n",
      "89 \n",
      "90 fizzbuzz\n",
      "91 \n",
      "92 \n",
      "93 fizz\n",
      "94 \n",
      "95 buzz\n",
      "96 fizz\n",
      "97 \n",
      "98 \n",
      "99 fizz\n",
      "100 buzz\n"
     ]
    }
   ],
   "source": [
    "#solution 2\n",
    "for x in range (1,101):\n",
    "    if (x % 3 == 0):\n",
    "        a = \"fizz\"\n",
    "    else:\n",
    "        a = \"\"\n",
    "    if (x % 5 == 0):\n",
    "        b = \"buzz\"\n",
    "    else:\n",
    "        b = \"\"\n",
    "    print(x, a+b)"
   ]
  },
  {
   "cell_type": "code",
   "execution_count": null,
   "metadata": {
    "collapsed": true
   },
   "outputs": [],
   "source": []
  }
 ],
 "metadata": {
  "anaconda-cloud": {},
  "kernelspec": {
   "display_name": "Python 3",
   "language": "python",
   "name": "python3"
  },
  "language_info": {
   "codemirror_mode": {
    "name": "ipython",
    "version": 3
   },
   "file_extension": ".py",
   "mimetype": "text/x-python",
   "name": "python",
   "nbconvert_exporter": "python",
   "pygments_lexer": "ipython3",
   "version": "3.6.3"
  }
 },
 "nbformat": 4,
 "nbformat_minor": 2
}
